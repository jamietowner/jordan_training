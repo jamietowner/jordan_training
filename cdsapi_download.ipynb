{
 "cells": [
  {
   "cell_type": "raw",
   "id": "14793a4f-aa3e-465d-87e2-c9147eb7020c",
   "metadata": {},
   "source": [
    "This script uses an API to download monthly seasonal forecast data for precipitation from the Climate Data Store (CDS). Note daily and sub-daily forecasts are also available along with multiple other meteorological variables. The script will store the data in an output directory defined. Please change this to a directory of your choice.\n",
    "\n",
    "Before running the script ensure you have an ECMWF acccount and have set up the CDS API personal access token. \n",
    "\n",
    "On the CDS website you can choose between several different global centres. For this training we will download between 2 and 3 different centres of your choice. To change forecast centre please adapt the 'originating_centre' variable in the script which is currently set as 'ecmwf'. For this training we download data which includes all ensemble members but you can adjust the parameters to download the ensemble mean. "
   ]
  },
  {
   "cell_type": "code",
   "execution_count": null,
   "id": "1ecfaa77-3659-4413-9cfc-b14d124a920b",
   "metadata": {},
   "outputs": [],
   "source": [
    "import cdsapi\n",
    "import os\n",
    "\n",
    "# Define the dataset\n",
    "dataset = \"seasonal-monthly-single-levels\"\n",
    "\n",
    "# Initialize the CDS API client\n",
    "client = cdsapi.Client()\n",
    "\n",
    "# Output directory where the files will be saved. Please change the \"/home/u/jamie/towner\" part to you file path\n",
    "output_directory = \"/home/u/jamie.towner/jordan_training/data/forecast_data\"\n",
    "#/Users/jamietowner/Documents/jordan_training/data/forecast_data\"\n",
    "os.makedirs(output_directory, exist_ok=True) # Make directory if it does not already exist\n",
    "\n",
    "originating_centre = \"ecmwf\"  # Define forecast centre\n",
    "\n",
    "# Loop through the years, months, and other parameters as needed\n",
    "for year in range(2025, 2026):  # Adjust the range of years as needed. Note in Python you need to add one to the variable (e.g., to get the year 2025 we need to have a range of 2025, 2026)\n",
    "    for month in ['01','02']:  # Loop through the months you need\n",
    "        request = {\n",
    "            \"originating_centre\": originating_centre,\n",
    "            \"system\": \"51\", # Change based on originating centre\n",
    "            \"variable\": [\"total_precipitation\"],\n",
    "            \"year\": [str(year)],\n",
    "            \"month\": [month],\n",
    "            \"leadtime_month\": [\"1\", \"2\", \"3\", \"4\", \"5\", \"6\"],\n",
    "            \"data_format\": \"netcdf\",\n",
    "            \"product_type\": [\"monthly_mean\"],\n",
    "            \"area\": [34, 34, 29, 40],  # Boundary box of area of interest (North, West, South, East)\n",
    "        }\n",
    "\n",
    "        # Define file name\n",
    "        file_name = f\"jordan_precip_{originating_centre}_{year}_{month}.nc\"\n",
    "        file_path = os.path.join(output_directory, file_name)\n",
    "\n",
    "        # Download the data\n",
    "        client.retrieve(dataset, request).download(file_path)\n",
    "\n",
    "        print(f\"Data for {year}-{month} from {originating_centre.upper()} downloaded to {file_path}\")"
   ]
  }
 ],
 "metadata": {
  "kernelspec": {
   "display_name": "aa-env",
   "language": "python",
   "name": "conda-env-aa-env-py"
  },
  "language_info": {
   "codemirror_mode": {
    "name": "ipython",
    "version": 3
   },
   "file_extension": ".py",
   "mimetype": "text/x-python",
   "name": "python",
   "nbconvert_exporter": "python",
   "pygments_lexer": "ipython3",
   "version": "3.10.14"
  }
 },
 "nbformat": 4,
 "nbformat_minor": 5
}
