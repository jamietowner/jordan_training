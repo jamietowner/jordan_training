{
 "cells": [
  {
   "cell_type": "raw",
   "id": "f9fcc1b7-f684-4aae-92c9-233d6330f778",
   "metadata": {},
   "source": [
    "This script processes the netcdf files we downloaded in the last script and performs a unit conversion. \n",
    "When downloading the monthly data, total precipitation is stored as the total precipitation rate with \n",
    "units of meters per second. For our analysis we will need to convert to mm per month. "
   ]
  },
  {
   "cell_type": "code",
   "execution_count": null,
   "id": "3ec16302-4b74-4ac9-814f-3c4d1652985d",
   "metadata": {
    "tags": []
   },
   "outputs": [],
   "source": [
    "# Import relevant packages \n",
    "import xarray as xr\n",
    "import pandas as pd\n",
    "import numpy as np\n",
    "import os\n",
    "import glob\n",
    "import matplotlib.pyplot as plt"
   ]
  },
  {
   "cell_type": "code",
   "execution_count": null,
   "id": "704b5631-f8c3-4ba8-8f5e-2ea4c522e7ac",
   "metadata": {
    "tags": []
   },
   "outputs": [],
   "source": [
    "# Define input and output directories. The output directory will be created if it does not already exist. Note\n",
    "# we will store the converted files rather than replace the originals in case anything goes wrong with the processing. \n",
    "# Remember to replace \"/home/u/jamie/towner\" with your own file path.\n",
    "input_dir = \"/home/u/jamie.towner/jordan_training/data/forecast_data\"\n",
    "output_dir = \"/home/u/jamie.towner/jordan_training/data/forecast_data/converted\"\n",
    "os.makedirs(output_dir, exist_ok=True)"
   ]
  },
  {
   "cell_type": "code",
   "execution_count": null,
   "id": "d750ff8d-f941-4386-a4ec-785b271a2522",
   "metadata": {
    "tags": []
   },
   "outputs": [],
   "source": [
    "# Define the variable name in the netcdf files.\n",
    "var_name = \"tprate\"\n",
    "original_var_name = \"tprate\"  # name in original file\n",
    "new_var_name = \"tp\"           # desired name after conversion\n",
    "mm_per_m = 1000  # convert meters to mm\n",
    "seconds_per_day = 86400\n",
    "\n",
    "# Days in months ahead (i.e., the lead time months)\n",
    "avg_days_in_month = np.array([31, 28, 31, 30, 31, 30])  # or use 30.4375 for all months\n",
    "\n",
    "seconds_in_month = avg_days_in_month * seconds_per_day  # shape (6,)"
   ]
  },
  {
   "cell_type": "code",
   "execution_count": null,
   "id": "8fcd0bb1-329c-487c-8fdf-de636aaae069",
   "metadata": {
    "tags": []
   },
   "outputs": [],
   "source": [
    "# Finally we will loop through all the netcdf files, regardless of which centre they originate from \n",
    "# and perform the unit conversion on all files. \n",
    "\n",
    "# Loop through all NetCDF files\n",
    "nc_files = glob.glob(os.path.join(input_dir, \"*.nc\"))\n",
    "\n",
    "for file in nc_files:\n",
    "    ds = xr.open_dataset(file)\n",
    "\n",
    "    if var_name not in ds:\n",
    "        print(f\"Variable '{var_name}' not found in {file}\")\n",
    "        continue\n",
    "\n",
    "    # Ensure forecastMonth has size 6\n",
    "    if ds.dims[\"forecastMonth\"] != 6:\n",
    "        print(f\"Unexpected forecastMonth dimension size in {file}\")\n",
    "        continue\n",
    "\n",
    "    # Create a DataArray for seconds_in_month \n",
    "    seconds_da = xr.DataArray(\n",
    "        seconds_in_month,\n",
    "        dims=[\"forecastMonth\"],\n",
    "        coords={\"forecastMonth\": ds[\"forecastMonth\"]}\n",
    "    )\n",
    "\n",
    "    # Convert m/s to mm/month\n",
    "    tp_mm_month = ds[original_var_name] * seconds_da * mm_per_m\n",
    "    tp_mm_month.attrs['units'] = 'mm/month'\n",
    "    tp_mm_month.name = new_var_name\n",
    "\n",
    "    # Remove the original variable and add the renamed one\n",
    "    ds = ds.drop_vars(original_var_name)\n",
    "    ds[new_var_name] = tp_mm_month\n",
    "\n",
    "    # Save to new file\n",
    "    output_file = os.path.join(output_dir, os.path.basename(file))\n",
    "    ds.to_netcdf(output_file)\n",
    "\n",
    "    print(f\"Saved: {output_file}\")"
   ]
  },
  {
   "cell_type": "raw",
   "id": "87e837d5-e0ec-4ea2-a6c1-dd549966c336",
   "metadata": {},
   "source": [
    "Now we have converted our units to mm/month, we are going to load an example file and check that the units \n",
    "have been converted correctly and check the dimensions of the file. You should see five dimensions: number, forecast_reference_time, forecast_month, lat, lon. Here, number refers to the ensemble members, forecast_reference_time refers to the issue month of the forecast and forecast_month refers to the lead time months of the forecast. "
   ]
  },
  {
   "cell_type": "code",
   "execution_count": null,
   "id": "536f5d39-e4cf-45d7-8bea-f2be67bb463b",
   "metadata": {
    "tags": []
   },
   "outputs": [],
   "source": [
    "# Path to your NetCDF file. Provide a specific file example. Remember to replace \"/home/u/jamie/towner\" with your\n",
    "# own file path\n",
    "file_path = \"/home/u/jamie.towner/jordan_training/data/forecast_data/converted/jordan_precip_ncep_2025_01.nc\"\n",
    "\n",
    "# Open the dataset\n",
    "ds = xr.open_dataset(file_path)\n",
    "\n",
    "# Print the entire dataset summary\n",
    "print(ds)\n",
    "\n",
    "# If you want to list just dimensions:\n",
    "print(\"\\nDimensions:\")\n",
    "print(ds.dims)\n",
    "\n",
    "# If you want to list variables and their units:\n",
    "print(\"\\nVariables and units:\")\n",
    "for var in ds.data_vars:\n",
    "    units = ds[var].attrs.get(\"units\", \"no units\")\n",
    "    print(f\"{var}: {units}\")\n"
   ]
  },
  {
   "cell_type": "raw",
   "id": "9e14288b-d5e8-486e-957c-05c254c50d5d",
   "metadata": {},
   "source": [
    "Now that we have checked the metadata of the file we can create a plot of the ensemble mean for a particular month (i.e., lead-time). This allows us to see if the values we are getting are reasonable. Please note here we do not read in a shapefile of Jordan and so you will only see coloured pixels. This is perfectly fine as we are only interested in the range of values (i.e., mm/month). We will be reading in shapefiles and calculating monthly means and SPI values in the next script. "
   ]
  },
  {
   "cell_type": "code",
   "execution_count": null,
   "id": "c807616f-473e-4ec6-af19-7628ed8c56ea",
   "metadata": {
    "tags": []
   },
   "outputs": [],
   "source": [
    "# Variable name\n",
    "var = \"tp\"  \n",
    "\n",
    "# Choose lead time (e.g., forecastMonth = 1)\n",
    "lead_index = 1  # Note that Python starts indexing from 0 and therefore 0 is month 1, 1 is month 2 etc.\n",
    "\n",
    "# Select data for the chosen lead time\n",
    "selected = ds[var].isel(forecastMonth=lead_index)\n",
    "\n",
    "# Compute ensemble mean\n",
    "ensemble_mean = selected.mean(dim='number')\n",
    "\n",
    "# Plot\n",
    "plt.figure(figsize=(8, 6))\n",
    "ensemble_mean.plot(cmap='viridis')  # xarray handles colorbar\n",
    "plt.title(f\"Ensemble Mean for Forecast Month {int(ds.forecastMonth[lead_index].values)}\")\n",
    "plt.xlabel(\"Longitude\")\n",
    "plt.ylabel(\"Latitude\")\n",
    "plt.show()"
   ]
  }
 ],
 "metadata": {
  "kernelspec": {
   "display_name": "aa-env",
   "language": "python",
   "name": "conda-env-aa-env-py"
  },
  "language_info": {
   "codemirror_mode": {
    "name": "ipython",
    "version": 3
   },
   "file_extension": ".py",
   "mimetype": "text/x-python",
   "name": "python",
   "nbconvert_exporter": "python",
   "pygments_lexer": "ipython3",
   "version": "3.10.14"
  }
 },
 "nbformat": 4,
 "nbformat_minor": 5
}
