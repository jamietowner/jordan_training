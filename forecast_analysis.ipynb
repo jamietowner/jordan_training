{
 "cells": [
  {
   "cell_type": "raw",
   "id": "64b672da-fde1-48f9-9d5a-28266132939d",
   "metadata": {},
   "source": [
    "This script analyses the forecast files that we downloaded. The analysis first shows the predicted precipitation using the ensemble mean on a pixel basis across Jordan for a choosen lead time (i.e., up to 6 months ahead of the issue date). We then go onto calculate the spatial mean at each province. Here, if we had an admin_2 shapefile of the country we could change this the district level. We then create spaghetti and box and whisker ensemble plots for each forecasting centre we downloaded. Finally, we create a threshold of rainfall and calculate the probability of occurence through each monthly lead time.  "
   ]
  },
  {
   "cell_type": "code",
   "execution_count": null,
   "id": "24c49644-6836-4b34-ae17-420d8d56d6ae",
   "metadata": {
    "tags": []
   },
   "outputs": [],
   "source": [
    "# Import required packages\n",
    "import numpy as np\n",
    "import xarray as xr\n",
    "import geopandas as gpd\n",
    "import matplotlib.pyplot as plt\n",
    "import cartopy.crs as ccrs\n",
    "import cartopy.feature as cfeature\n",
    "import os\n",
    "import glob\n",
    "import rioxarray\n",
    "from rasterstats import zonal_stats\n",
    "import regionmask"
   ]
  },
  {
   "cell_type": "raw",
   "id": "bb5663b5-c2c7-4eb7-b04a-b563b10a3aba",
   "metadata": {},
   "source": [
    "Below we need to define the paths to our forecast directory and to our Jordan shapefile. We then read in all nc files in our forecast directory and print these to ensure the paths have been set correctly. Remember to change the paths to your own file system. "
   ]
  },
  {
   "cell_type": "code",
   "execution_count": null,
   "id": "8504e459-805d-427d-8c73-be1c515393d8",
   "metadata": {
    "tags": []
   },
   "outputs": [],
   "source": [
    "# === FILE PATHS ===\n",
    "forecast_dir = \"/home/u/jamie.towner/jordan_training/data/forecast_data/converted\"\n",
    "shp_path = \"/home/u/jamie.towner/jordan_training/data/shapefile/geoBoundaries-JOR-ADM1.shp\"\n",
    "nc_files = glob.glob(os.path.join(forecast_dir, \"*.nc\"))\n",
    "nc_files"
   ]
  },
  {
   "cell_type": "raw",
   "id": "29437918-7fa1-419f-91aa-18b7e506e384",
   "metadata": {},
   "source": [
    "Below we read in the shapefile and the print the geospatial dataframe. This allows us to intepret the file and see key pieces of information such as the Province names. Note depending on the dataset, sometimes these can be mispelt and so please check below if you recieve an error. "
   ]
  },
  {
   "cell_type": "code",
   "execution_count": null,
   "id": "cead90b6-5674-4634-9651-27088354daa1",
   "metadata": {
    "tags": []
   },
   "outputs": [],
   "source": [
    "# === READ SHAPEFILE ONCE ===\n",
    "gdf = gpd.read_file(shp_path)\n",
    "gdf"
   ]
  },
  {
   "cell_type": "raw",
   "id": "4e327af5-64b6-4975-9db8-0f041329b70a",
   "metadata": {},
   "source": [
    "Similar to the last script we now loop over each forecast file and read in each one and double check the dimensions and units of the file to ensure they are correct. Next we plot the ensemble mean of each forecast for a given lead time and overlay the shapefile. When printing the dimensions of the files you should see five dimensions: number, forecast_reference_time, forecast_month, lat, lon. Here, number refers to the ensemble members, forecast_reference_time refers to the issue month of the forecast and forecast_month refers to the lead time months of the forecast. "
   ]
  },
  {
   "cell_type": "code",
   "execution_count": null,
   "id": "c36ec2df-a018-4a3a-8f03-6cb57419ce03",
   "metadata": {
    "tags": []
   },
   "outputs": [],
   "source": [
    "# === LOOP THROUGH FORECAST FILES ===\n",
    "for file in nc_files:\n",
    "    print(f\"\\nReading: {file}\")\n",
    "    ds = xr.open_dataset(file)\n",
    "\n",
    "    print(\"Variables:\", list(ds.data_vars))\n",
    "    print(\"Dimensions:\", ds.dims)\n",
    "\n",
    "    # Choose variable (adjust if needed)\n",
    "    if \"tp\" in ds.data_vars:\n",
    "        var_name = \"tp\"\n",
    "    elif \"tprate_mm\" in ds.data_vars:\n",
    "        var_name = \"tprate_mm\"\n",
    "    else:\n",
    "        print(\"Precipitation variable not found.\")\n",
    "        continue\n",
    "\n",
    "    # Check dimensions and select lead month\n",
    "    if \"forecastMonth\" not in ds.dims or \"number\" not in ds.dims:\n",
    "        print(\"Missing expected dimensions.\")\n",
    "        continue\n",
    "        \n",
    "    # Select lead month and compute ensemble mean\n",
    "    lead_month_index = 2 # Remember that Python begins indexing at 0\n",
    "    ensemble_mean = ds[var_name].isel(forecastMonth=lead_month).mean(dim=\"number\")\n",
    "\n",
    "    # Plot\n",
    "    fig, ax = plt.subplots(figsize=(10, 8), subplot_kw={'projection': ccrs.PlateCarree()})\n",
    "    p = ensemble_mean.plot(\n",
    "        ax=ax,\n",
    "        transform=ccrs.PlateCarree(),\n",
    "        cmap='Blues',\n",
    "        cbar_kwargs={'label': '(mm/month)'},\n",
    "    )\n",
    "\n",
    "    gdf.boundary.plot(ax=ax, edgecolor='black', linewidth=1)\n",
    "    ax.add_feature(cfeature.BORDERS, linestyle=':')\n",
    "    ax.add_feature(cfeature.COASTLINE)\n",
    "    ax.set_title(f\"Ensemble Mean Precipitation - Lead Time {lead_month_index + 1}\\n{os.path.basename(file)}\")\n",
    "    ax.set_extent([34, 40, 29, 34])  # Jordan extent\n",
    "\n",
    "    plt.show()"
   ]
  },
  {
   "cell_type": "raw",
   "id": "da012466-53b5-4bbc-86e0-9d26b1404e56",
   "metadata": {},
   "source": [
    "Next we will create a similar plot but this time we will calculate the spatial mean for each province for a given lead time month. If you have time try downloading an ADMN2 shapefile of Jordan and adapt the script to plot for a particular district. "
   ]
  },
  {
   "cell_type": "code",
   "execution_count": null,
   "id": "b60a305a-54dd-494f-a06d-b5ec50f3a5eb",
   "metadata": {
    "tags": []
   },
   "outputs": [],
   "source": [
    "# === USER INPUTS ===\n",
    "lead_month_index = 3  # Define lead time month, 0 = lead month 1\n",
    "var_name = \"tp\"\n",
    "output_dir = \"/home/u/jamie.towner/jordan_training/data/forecast_data/converted/temp\"  # To store temporary files\n",
    "os.makedirs(output_dir, exist_ok=True)\n",
    "\n",
    "for file in nc_files:\n",
    "    print(f\"Processing {file}\")\n",
    "    ds = xr.open_dataset(file)\n",
    "\n",
    "    if var_name not in ds:\n",
    "        print(f\"Variable '{var_name}' not found in {file}\")\n",
    "        continue\n",
    "\n",
    "    if \"forecastMonth\" not in ds.dims or ds.sizes[\"forecastMonth\"] <= lead_month_index:\n",
    "        print(f\"Unexpected forecastMonth dimension in {file}\")\n",
    "        continue\n",
    "\n",
    "    # Take ensemble mean and select a lead month\n",
    "    tp = ds[var_name].isel(forecastMonth=lead_month_index).mean(dim=\"number\")\n",
    "\n",
    "    # Assign CRS and save as GeoTIFF\n",
    "    tp.rio.write_crs(\"EPSG:4326\", inplace=True)\n",
    "    raster_path = os.path.join(output_dir, \"tmp_tp.tif\")\n",
    "    tp.rio.to_raster(raster_path)\n",
    "\n",
    "    # Compute zonal stats: mean per province\n",
    "    stats = zonal_stats(shp_path, raster_path, stats=[\"mean\"], geojson_out=True, all_touched=True, nodata=np.nan)\n",
    "\n",
    "    # Convert to GeoDataFrame\n",
    "    gdf_stats = gpd.GeoDataFrame.from_features(stats)\n",
    "    gdf_stats[\"mean_tp\"] = gdf_stats[\"mean\"]\n",
    "\n",
    "    # Plot result\n",
    "    fig, ax = plt.subplots(figsize=(10, 8))\n",
    "    gdf_stats.plot(\n",
    "        column=\"mean_tp\",\n",
    "        cmap=\"Blues\",\n",
    "        edgecolor=\"black\",\n",
    "        legend=True,\n",
    "        legend_kwds={\"label\": \"(mm/month)\"},\n",
    "        ax=ax\n",
    "    )\n",
    "\n",
    "    ax.set_title(f\"Mean Precipitation - Lead Month {lead_month_index + 1}\\n{os.path.basename(file)}\")\n",
    "    plt.axis(\"off\")\n",
    "    plt.show()"
   ]
  },
  {
   "cell_type": "raw",
   "id": "4910dc10-de82-4bd5-b055-b12b00141deb",
   "metadata": {},
   "source": [
    "In the next two cells we will plot each ensemble member for each forecast showing the precipitation amount per member for each lead time. The first plot is called a spaghetti plot whilst the second is a box and whiskers plot. These plots allow us to see the evolution of the forecast and how the uncertainty changes with lead time. The closer the ensemble members are the more confidence we have in the forecast. Which plot do you prefer and why?"
   ]
  },
  {
   "cell_type": "code",
   "execution_count": null,
   "id": "59c9b535-cba5-4115-bf13-cc54ccbdaf67",
   "metadata": {},
   "outputs": [],
   "source": [
    "province_name = \"Karak\" # Choose a province of your choice. \n",
    "gdf_province = gdf[gdf[\"shapeName\"] == province_name]\n",
    "\n",
    "if gdf_province.empty:\n",
    "    raise ValueError(f\"Province '{province_name}' not found in shapefile.\")\n",
    "\n",
    "for file_path in nc_files:\n",
    "    print(f\"Processing file: {os.path.basename(file_path)}\")\n",
    "    ds = xr.open_dataset(file_path)\n",
    "    tp = ds[\"tp\"]  # rainfall variable (mm/month)\n",
    "    tp.rio.set_spatial_dims(x_dim=\"longitude\", y_dim=\"latitude\", inplace=True)\n",
    "    tp.rio.write_crs(\"EPSG:4326\", inplace=True)\n",
    "\n",
    "    lead_times = tp[\"forecastMonth\"].values\n",
    "    ensemble_members = tp[\"number\"].values\n",
    "\n",
    "    mean_tp = []\n",
    "\n",
    "    for member in ensemble_members:\n",
    "        member_means = []\n",
    "        for lead in lead_times:\n",
    "            tp_slice = tp.sel(number=member, forecastMonth=lead).squeeze()\n",
    "\n",
    "            stats = zonal_stats(\n",
    "                gdf_province,\n",
    "                tp_slice.values,\n",
    "                affine=tp_slice.rio.transform(),\n",
    "                stats=[\"mean\"],\n",
    "                nodata=np.nan\n",
    "            )\n",
    "            member_means.append(stats[0][\"mean\"])\n",
    "        mean_tp.append(member_means)\n",
    "\n",
    "    # Plotting\n",
    "    plt.figure(figsize=(10, 6))\n",
    "    for i, member_means in enumerate(mean_tp):\n",
    "        plt.plot(lead_times, member_means, label=f\"Member {ensemble_members[i]}\", alpha=0.7)\n",
    "\n",
    "    plt.xlabel(\"Forecast Month (Lead Time)\")\n",
    "    plt.ylabel(\"Precipitation (mm/month)\")\n",
    "    plt.title(f\"Precipitation Forecast for {province_name}\\nFile: {os.path.basename(file_path)}\")\n",
    "    plt.grid(True)\n",
    "    plt.tight_layout()\n",
    "    plt.show()\n"
   ]
  },
  {
   "cell_type": "code",
   "execution_count": null,
   "id": "4f3b86eb-5bbb-4441-9d50-1dd8c849c8ac",
   "metadata": {
    "tags": []
   },
   "outputs": [],
   "source": [
    "province_name = \"Karak\" # Choose a province of your choice\n",
    "gdf_province = gdf[gdf[\"shapeName\"] == province_name]\n",
    "\n",
    "if gdf_province.empty:\n",
    "    raise ValueError(f\"Province '{province_name}' not found in shapefile.\")\n",
    "\n",
    "for file_path in nc_files:\n",
    "    print(f\"Processing file: {os.path.basename(file_path)}\")\n",
    "    ds = xr.open_dataset(file_path)\n",
    "    tp = ds[\"tp\"]  # rainfall variable (mm/month)\n",
    "    tp.rio.set_spatial_dims(x_dim=\"longitude\", y_dim=\"latitude\", inplace=True)\n",
    "    tp.rio.write_crs(\"EPSG:4326\", inplace=True)\n",
    "\n",
    "    lead_times = tp[\"forecastMonth\"].values\n",
    "    ensemble_members = tp[\"number\"].values\n",
    "\n",
    "    # Collect mean rainfall per ensemble member per lead time\n",
    "    data_for_boxplot = []\n",
    "\n",
    "    for lead in lead_times:\n",
    "        # Collect all members' means for this lead time\n",
    "        lead_values = []\n",
    "        for member in ensemble_members:\n",
    "            tp_slice = tp.sel(number=member, forecastMonth=lead).squeeze()\n",
    "\n",
    "            stats = zonal_stats(\n",
    "                gdf_province,\n",
    "                tp_slice.values,\n",
    "                affine=tp_slice.rio.transform(),\n",
    "                stats=[\"mean\"],\n",
    "                nodata=np.nan\n",
    "            )\n",
    "            lead_values.append(stats[0][\"mean\"])\n",
    "        data_for_boxplot.append(lead_values)\n",
    "\n",
    "    # Plot boxplot\n",
    "    plt.figure(figsize=(10, 6))\n",
    "    plt.boxplot(data_for_boxplot, positions=lead_times, widths=0.6, patch_artist=True)\n",
    "\n",
    "    plt.xlabel(\"Forecast Month (Lead Time)\")\n",
    "    plt.ylabel(\"Precipitation (mm/month)\")\n",
    "    plt.title(f\"Precipitation Forecast for {province_name}\\nFile: {os.path.basename(file_path)}\")\n",
    "    plt.grid(True)\n",
    "    plt.tight_layout()\n",
    "    plt.show()"
   ]
  },
  {
   "cell_type": "raw",
   "id": "5f9acf5f-e103-4b77-bbe0-1691f7d61851",
   "metadata": {},
   "source": [
    "The final cell performs a threshold exceedance or unexceedance analysis. This is very useful when attempting to understand the probability of a certain level of rainfall being exceeded or not exceeded. For instance, what percentage or how many ensemble members predict low rainfall amounts (as set by your threshold). This part of the analysis starts to introduce many concepts in the drought anticipatory action system where thresholds and triggers are statistically chosen for the operational system. "
   ]
  },
  {
   "cell_type": "code",
   "execution_count": null,
   "id": "c74d3a44-890a-43a4-ad15-0ef06cad7cd9",
   "metadata": {
    "tags": []
   },
   "outputs": [],
   "source": [
    "# Threshold (mm/month) - set your desired value here\n",
    "rainfall_threshold = 10.0  \n",
    "\n",
    "# === Read province shapefile and select province ===\n",
    "gdf = gpd.read_file(shp_path)\n",
    "province_name = \"Karak\" # Choose a province of your choice\n",
    "gdf_province = gdf[gdf[\"shapeName\"] == province_name]\n",
    "\n",
    "if gdf_province.empty:\n",
    "    raise ValueError(f\"Province '{province_name}' not found in shapefile.\")\n",
    "\n",
    "for file_path in nc_files:\n",
    "    print(f\"Processing file: {os.path.basename(file_path)}\")\n",
    "    ds = xr.open_dataset(file_path)\n",
    "    tp = ds[\"tp\"]  # rainfall variable (mm/month)\n",
    "    tp.rio.set_spatial_dims(x_dim=\"longitude\", y_dim=\"latitude\", inplace=True)\n",
    "    tp.rio.write_crs(\"EPSG:4326\", inplace=True)\n",
    "\n",
    "    lead_times = tp[\"forecastMonth\"].values\n",
    "    ensemble_members = tp[\"number\"].values\n",
    "\n",
    "    exceedance_probs = []\n",
    "\n",
    "    for lead in lead_times:\n",
    "        exceed_count = 0\n",
    "        total_members = len(ensemble_members)\n",
    "\n",
    "        for member in ensemble_members:\n",
    "            tp_slice = tp.sel(number=member, forecastMonth=lead).squeeze()\n",
    "\n",
    "            # Calculate spatial mean over the province\n",
    "            stats = zonal_stats(\n",
    "                gdf_province,\n",
    "                tp_slice.values,\n",
    "                affine=tp_slice.rio.transform(),\n",
    "                stats=[\"mean\"],\n",
    "                nodata=np.nan\n",
    "            )\n",
    "            mean_val = stats[0][\"mean\"]\n",
    "\n",
    "            if mean_val is not None and mean_val < rainfall_threshold:\n",
    "                exceed_count += 1\n",
    "        \n",
    "        prob = exceed_count / total_members\n",
    "        exceedance_probs.append(prob)\n",
    "\n",
    "    # Plot probability of exceedance\n",
    "    plt.figure(figsize=(10, 6))\n",
    "    plt.plot(lead_times, exceedance_probs, marker='o')\n",
    "    plt.xlabel(\"Forecast Month (Lead Time)\")\n",
    "    plt.ylabel(f\"Probability of Exceeding {rainfall_threshold} mm/month\")\n",
    "    plt.title(f\"Probability of Precipitation Exceedance in {province_name}\\n{os.path.basename(file_path)}\")\n",
    "    plt.ylim(0, 1)\n",
    "    plt.grid(True)\n",
    "    plt.tight_layout()\n",
    "    plt.show()"
   ]
  }
 ],
 "metadata": {
  "kernelspec": {
   "display_name": "aa-env",
   "language": "python",
   "name": "conda-env-aa-env-py"
  },
  "language_info": {
   "codemirror_mode": {
    "name": "ipython",
    "version": 3
   },
   "file_extension": ".py",
   "mimetype": "text/x-python",
   "name": "python",
   "nbconvert_exporter": "python",
   "pygments_lexer": "ipython3",
   "version": "3.10.14"
  }
 },
 "nbformat": 4,
 "nbformat_minor": 5
}
